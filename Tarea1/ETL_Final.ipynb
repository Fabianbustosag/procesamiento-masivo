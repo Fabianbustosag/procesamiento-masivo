{
 "cells": [
  {
   "cell_type": "markdown",
   "metadata": {},
   "source": [
    "### Obtencion de datos"
   ]
  },
  {
   "cell_type": "code",
   "execution_count": 1,
   "metadata": {},
   "outputs": [],
   "source": [
    "import pandas as pd\n",
    "import xml.etree.ElementTree as ET\n",
    "\n",
    "# Especifica la ruta al archivo Excel\n",
    "archivo_excel = 'extract_glosa.xlsx'\n",
    "\n",
    "# Lee el archivo Excel en un DataFrame de Pandas\n",
    "df = pd.read_excel(archivo_excel)"
   ]
  },
  {
   "cell_type": "markdown",
   "metadata": {},
   "source": [
    "### Obtener Dataframe con filas por separado por cada glosa"
   ]
  },
  {
   "cell_type": "code",
   "execution_count": 33,
   "metadata": {},
   "outputs": [],
   "source": [
    "ns = {'ns': 'http://www.sii.cl/SiiDte'}\n",
    "\n",
    "filas_sin = []\n",
    "filas_con = []\n",
    "\n",
    "# Funcion para obtener un elemento\n",
    "def get_element_value(element, tag):\n",
    "    return element.find(f'ns:{tag}', ns).text if element.find(f'ns:{tag}', ns) is not None else None\n",
    "\n",
    "\n",
    "# Recorrer el dataframe\n",
    "for xml in df['convert_from'].head(4):\n",
    "\n",
    "    root = ET.fromstring(xml)\n",
    "    namespace = {'default': 'http://www.sii.cl/SiiDte'}\n",
    "\n",
    "    # Obtener los valores \"globales\" del xml\n",
    "    Folio = root.find('.//{http://www.sii.cl/SiiDte}Folio').text\n",
    "    RutEmisor = root.find('.//{http://www.sii.cl/SiiDte}RutEmisor').text\n",
    "\n",
    "    # Obtener todos los detalles del xml <detalle>\n",
    "    detalles = root.findall('.//ns:Detalle', ns)\n",
    "\n",
    "    # Recorrer cada detalle de los detalles\n",
    "    for detalle in detalles:\n",
    "        NroLinDet = get_element_value(detalle, 'NroLinDet')\n",
    "        NmbItem = get_element_value(detalle, 'NmbItem')\n",
    "        MontoItem = get_element_value(detalle, 'MontoItem')\n",
    "        DscItem = get_element_value(detalle, 'DscItem')\n",
    "        # Crear una fila para agregar al dataframe\n",
    "        # Si esta el elemento <DscItem> se agrega al df que contiene las intancias con DscItem\n",
    "        if DscItem is not None:\n",
    "            nuevaFila = {\n",
    "            \"RutEmisor\": RutEmisor,\n",
    "            \"Folio\": Folio,\n",
    "            \"N_Item\":NroLinDet,\n",
    "            \"NmbItem\": NmbItem,\n",
    "            \"DscItem\": DscItem,\n",
    "            \"MontoItem\": MontoItem,\n",
    "            }\n",
    "            filas_con.append(nuevaFila)\n",
    "        # Si no esta el elemento <DscItem> se agrega la fila al df que no tiene \n",
    "        else:\n",
    "            nuevaFila = {\n",
    "            \"RutEmisor\": RutEmisor,\n",
    "            \"Folio\": Folio,\n",
    "            \"N_Item\":NroLinDet,\n",
    "            \"NmbItem\": NmbItem,\n",
    "            \"DscItem\": None,\n",
    "            \"MontoItem\": MontoItem,\n",
    "            }\n",
    "            filas_sin.append(nuevaFila)\n",
    "\n",
    "# agregar las nuevas filas a los distintos df\n",
    "df_con = pd.DataFrame(filas_con) # df con DscItem\n",
    "df_sin = pd.DataFrame(filas_sin) # df sin DscItem"
   ]
  },
  {
   "cell_type": "code",
   "execution_count": 26,
   "metadata": {},
   "outputs": [
    {
     "data": {
      "text/html": [
       "<div>\n",
       "<style scoped>\n",
       "    .dataframe tbody tr th:only-of-type {\n",
       "        vertical-align: middle;\n",
       "    }\n",
       "\n",
       "    .dataframe tbody tr th {\n",
       "        vertical-align: top;\n",
       "    }\n",
       "\n",
       "    .dataframe thead th {\n",
       "        text-align: right;\n",
       "    }\n",
       "</style>\n",
       "<table border=\"1\" class=\"dataframe\">\n",
       "  <thead>\n",
       "    <tr style=\"text-align: right;\">\n",
       "      <th></th>\n",
       "      <th>RutEmisor</th>\n",
       "      <th>Folio</th>\n",
       "      <th>N_Item</th>\n",
       "      <th>NmbItem</th>\n",
       "      <th>DscItem</th>\n",
       "      <th>MontoItem</th>\n",
       "    </tr>\n",
       "  </thead>\n",
       "  <tbody>\n",
       "    <tr>\n",
       "      <th>0</th>\n",
       "      <td>77566800-8</td>\n",
       "      <td>440</td>\n",
       "      <td>1</td>\n",
       "      <td>Arriendo local 2 Puerto</td>\n",
       "      <td>montt    valor proporcional mes de Enero uf 140</td>\n",
       "      <td>5156309</td>\n",
       "    </tr>\n",
       "    <tr>\n",
       "      <th>1</th>\n",
       "      <td>76789922-K</td>\n",
       "      <td>937</td>\n",
       "      <td>1</td>\n",
       "      <td>Usage: Remote Hands 1 Day</td>\n",
       "      <td>Ticket: 822574: 12/19/23: Requested by: carlos...</td>\n",
       "      <td>916160</td>\n",
       "    </tr>\n",
       "  </tbody>\n",
       "</table>\n",
       "</div>"
      ],
      "text/plain": [
       "    RutEmisor Folio N_Item                    NmbItem  \\\n",
       "0  77566800-8   440      1    Arriendo local 2 Puerto   \n",
       "1  76789922-K   937      1  Usage: Remote Hands 1 Day   \n",
       "\n",
       "                                             DscItem MontoItem  \n",
       "0    montt    valor proporcional mes de Enero uf 140   5156309  \n",
       "1  Ticket: 822574: 12/19/23: Requested by: carlos...    916160  "
      ]
     },
     "execution_count": 26,
     "metadata": {},
     "output_type": "execute_result"
    }
   ],
   "source": [
    "df_con.head()"
   ]
  },
  {
   "cell_type": "code",
   "execution_count": 27,
   "metadata": {},
   "outputs": [
    {
     "data": {
      "text/html": [
       "<div>\n",
       "<style scoped>\n",
       "    .dataframe tbody tr th:only-of-type {\n",
       "        vertical-align: middle;\n",
       "    }\n",
       "\n",
       "    .dataframe tbody tr th {\n",
       "        vertical-align: top;\n",
       "    }\n",
       "\n",
       "    .dataframe thead th {\n",
       "        text-align: right;\n",
       "    }\n",
       "</style>\n",
       "<table border=\"1\" class=\"dataframe\">\n",
       "  <thead>\n",
       "    <tr style=\"text-align: right;\">\n",
       "      <th></th>\n",
       "      <th>RutEmisor</th>\n",
       "      <th>Folio</th>\n",
       "      <th>N_Item</th>\n",
       "      <th>NmbItem</th>\n",
       "      <th>DscItem</th>\n",
       "      <th>MontoItem</th>\n",
       "    </tr>\n",
       "  </thead>\n",
       "  <tbody>\n",
       "    <tr>\n",
       "      <th>0</th>\n",
       "      <td>16383874-5</td>\n",
       "      <td>89</td>\n",
       "      <td>1</td>\n",
       "      <td>Arriendo Álvaro Casanova</td>\n",
       "      <td>None</td>\n",
       "      <td>898498</td>\n",
       "    </tr>\n",
       "    <tr>\n",
       "      <th>1</th>\n",
       "      <td>96689310-9</td>\n",
       "      <td>50872845</td>\n",
       "      <td>1</td>\n",
       "      <td>COMISION POR VENTAS NACIONALES. EMISOR R.U.T.:...</td>\n",
       "      <td>None</td>\n",
       "      <td>114</td>\n",
       "    </tr>\n",
       "    <tr>\n",
       "      <th>2</th>\n",
       "      <td>96689310-9</td>\n",
       "      <td>50872845</td>\n",
       "      <td>2</td>\n",
       "      <td>SERVICIO TBK 12/2023</td>\n",
       "      <td>None</td>\n",
       "      <td>10807</td>\n",
       "    </tr>\n",
       "    <tr>\n",
       "      <th>3</th>\n",
       "      <td>96689310-9</td>\n",
       "      <td>50872845</td>\n",
       "      <td>3</td>\n",
       "      <td>COMISIONES POR VENTAS NACIONALES</td>\n",
       "      <td>None</td>\n",
       "      <td>2922</td>\n",
       "    </tr>\n",
       "  </tbody>\n",
       "</table>\n",
       "</div>"
      ],
      "text/plain": [
       "    RutEmisor     Folio N_Item  \\\n",
       "0  16383874-5        89      1   \n",
       "1  96689310-9  50872845      1   \n",
       "2  96689310-9  50872845      2   \n",
       "3  96689310-9  50872845      3   \n",
       "\n",
       "                                             NmbItem DscItem MontoItem  \n",
       "0                           Arriendo Álvaro Casanova    None    898498  \n",
       "1  COMISION POR VENTAS NACIONALES. EMISOR R.U.T.:...    None       114  \n",
       "2                               SERVICIO TBK 12/2023    None     10807  \n",
       "3                   COMISIONES POR VENTAS NACIONALES    None      2922  "
      ]
     },
     "execution_count": 27,
     "metadata": {},
     "output_type": "execute_result"
    }
   ],
   "source": [
    "df_sin.head()"
   ]
  },
  {
   "cell_type": "markdown",
   "metadata": {},
   "source": [
    "### Juntar NmbItem y DscItem para convertirlo en la glosa"
   ]
  },
  {
   "cell_type": "markdown",
   "metadata": {},
   "source": [
    "#### Seccion para el df que `no tiene DscItem`"
   ]
  },
  {
   "cell_type": "code",
   "execution_count": 34,
   "metadata": {},
   "outputs": [],
   "source": [
    "# Elimino la columna DscItem porque no tiene nada en ese campo\n",
    "df_sin = df_sin.drop(columns=['DscItem'])\n",
    "# Renombro las columna NmbItem que es la unica glosa que hay\n",
    "df_sin = df_sin.rename(columns={'NmbItem': 'Glosa'})"
   ]
  },
  {
   "cell_type": "markdown",
   "metadata": {},
   "source": [
    "#### Seccion para el df que `tiene DscItem`"
   ]
  },
  {
   "cell_type": "code",
   "execution_count": 37,
   "metadata": {},
   "outputs": [
    {
     "name": "stdout",
     "output_type": "stream",
     "text": [
      "Columnas 'MontoItem' y 'Glosa' han sido intercambiadas.\n"
     ]
    }
   ],
   "source": [
    "def combinar_columnas(df, col1, col2, nueva_columna):\n",
    "    df[nueva_columna] = df[col1].astype(str) + \" \" + df[col2].astype(str)\n",
    "    df = df.drop(columns=[col1, col2])\n",
    "    return df\n",
    "\n",
    "def cambiar_lugar_columnas(df, col1, col2):\n",
    "    if col1 in df.columns and col2 in df.columns:\n",
    "        cols = list(df.columns)\n",
    "        col1_index, col2_index = cols.index(col1), cols.index(col2)\n",
    "        \n",
    "        # Intercambiar los nombres de las columnas en la lista\n",
    "        cols[col1_index], cols[col2_index] = cols[col2_index], cols[col1_index]\n",
    "        \n",
    "        # Reordenar el DataFrame según la nueva lista de columnas\n",
    "        df = df[cols]\n",
    "        print(f\"Columnas '{col1}' y '{col2}' han sido intercambiadas.\")\n",
    "    else:\n",
    "        print(f\"Una o ambas columnas '{col1}' y '{col2}' no existen en el DataFrame.\")\n",
    "    \n",
    "    return df\n",
    "\n",
    "df_con = combinar_columnas(df_con,'NmbItem','DscItem','Glosa')\n",
    "df_con = cambiar_lugar_columnas(df_con, 'MontoItem', 'Glosa')"
   ]
  },
  {
   "cell_type": "code",
   "execution_count": 38,
   "metadata": {},
   "outputs": [
    {
     "data": {
      "text/html": [
       "<div>\n",
       "<style scoped>\n",
       "    .dataframe tbody tr th:only-of-type {\n",
       "        vertical-align: middle;\n",
       "    }\n",
       "\n",
       "    .dataframe tbody tr th {\n",
       "        vertical-align: top;\n",
       "    }\n",
       "\n",
       "    .dataframe thead th {\n",
       "        text-align: right;\n",
       "    }\n",
       "</style>\n",
       "<table border=\"1\" class=\"dataframe\">\n",
       "  <thead>\n",
       "    <tr style=\"text-align: right;\">\n",
       "      <th></th>\n",
       "      <th>RutEmisor</th>\n",
       "      <th>Folio</th>\n",
       "      <th>N_Item</th>\n",
       "      <th>Glosa</th>\n",
       "      <th>MontoItem</th>\n",
       "    </tr>\n",
       "  </thead>\n",
       "  <tbody>\n",
       "    <tr>\n",
       "      <th>0</th>\n",
       "      <td>77566800-8</td>\n",
       "      <td>440</td>\n",
       "      <td>1</td>\n",
       "      <td>Arriendo local 2 Puerto montt    valor proporc...</td>\n",
       "      <td>5156309</td>\n",
       "    </tr>\n",
       "    <tr>\n",
       "      <th>1</th>\n",
       "      <td>76789922-K</td>\n",
       "      <td>937</td>\n",
       "      <td>1</td>\n",
       "      <td>Usage: Remote Hands 1 Day Ticket: 822574: 12/1...</td>\n",
       "      <td>916160</td>\n",
       "    </tr>\n",
       "  </tbody>\n",
       "</table>\n",
       "</div>"
      ],
      "text/plain": [
       "    RutEmisor Folio N_Item                                              Glosa  \\\n",
       "0  77566800-8   440      1  Arriendo local 2 Puerto montt    valor proporc...   \n",
       "1  76789922-K   937      1  Usage: Remote Hands 1 Day Ticket: 822574: 12/1...   \n",
       "\n",
       "  MontoItem  \n",
       "0   5156309  \n",
       "1    916160  "
      ]
     },
     "execution_count": 38,
     "metadata": {},
     "output_type": "execute_result"
    }
   ],
   "source": [
    "df_con.head()"
   ]
  },
  {
   "cell_type": "code",
   "execution_count": 39,
   "metadata": {},
   "outputs": [
    {
     "data": {
      "text/html": [
       "<div>\n",
       "<style scoped>\n",
       "    .dataframe tbody tr th:only-of-type {\n",
       "        vertical-align: middle;\n",
       "    }\n",
       "\n",
       "    .dataframe tbody tr th {\n",
       "        vertical-align: top;\n",
       "    }\n",
       "\n",
       "    .dataframe thead th {\n",
       "        text-align: right;\n",
       "    }\n",
       "</style>\n",
       "<table border=\"1\" class=\"dataframe\">\n",
       "  <thead>\n",
       "    <tr style=\"text-align: right;\">\n",
       "      <th></th>\n",
       "      <th>RutEmisor</th>\n",
       "      <th>Folio</th>\n",
       "      <th>N_Item</th>\n",
       "      <th>Glosa</th>\n",
       "      <th>MontoItem</th>\n",
       "    </tr>\n",
       "  </thead>\n",
       "  <tbody>\n",
       "    <tr>\n",
       "      <th>0</th>\n",
       "      <td>16383874-5</td>\n",
       "      <td>89</td>\n",
       "      <td>1</td>\n",
       "      <td>Arriendo Álvaro Casanova</td>\n",
       "      <td>898498</td>\n",
       "    </tr>\n",
       "    <tr>\n",
       "      <th>1</th>\n",
       "      <td>96689310-9</td>\n",
       "      <td>50872845</td>\n",
       "      <td>1</td>\n",
       "      <td>COMISION POR VENTAS NACIONALES. EMISOR R.U.T.:...</td>\n",
       "      <td>114</td>\n",
       "    </tr>\n",
       "    <tr>\n",
       "      <th>2</th>\n",
       "      <td>96689310-9</td>\n",
       "      <td>50872845</td>\n",
       "      <td>2</td>\n",
       "      <td>SERVICIO TBK 12/2023</td>\n",
       "      <td>10807</td>\n",
       "    </tr>\n",
       "    <tr>\n",
       "      <th>3</th>\n",
       "      <td>96689310-9</td>\n",
       "      <td>50872845</td>\n",
       "      <td>3</td>\n",
       "      <td>COMISIONES POR VENTAS NACIONALES</td>\n",
       "      <td>2922</td>\n",
       "    </tr>\n",
       "  </tbody>\n",
       "</table>\n",
       "</div>"
      ],
      "text/plain": [
       "    RutEmisor     Folio N_Item  \\\n",
       "0  16383874-5        89      1   \n",
       "1  96689310-9  50872845      1   \n",
       "2  96689310-9  50872845      2   \n",
       "3  96689310-9  50872845      3   \n",
       "\n",
       "                                               Glosa MontoItem  \n",
       "0                           Arriendo Álvaro Casanova    898498  \n",
       "1  COMISION POR VENTAS NACIONALES. EMISOR R.U.T.:...       114  \n",
       "2                               SERVICIO TBK 12/2023     10807  \n",
       "3                   COMISIONES POR VENTAS NACIONALES      2922  "
      ]
     },
     "execution_count": 39,
     "metadata": {},
     "output_type": "execute_result"
    }
   ],
   "source": [
    "df_sin.head()"
   ]
  },
  {
   "cell_type": "code",
   "execution_count": 40,
   "metadata": {},
   "outputs": [
    {
     "data": {
      "text/html": [
       "<div>\n",
       "<style scoped>\n",
       "    .dataframe tbody tr th:only-of-type {\n",
       "        vertical-align: middle;\n",
       "    }\n",
       "\n",
       "    .dataframe tbody tr th {\n",
       "        vertical-align: top;\n",
       "    }\n",
       "\n",
       "    .dataframe thead th {\n",
       "        text-align: right;\n",
       "    }\n",
       "</style>\n",
       "<table border=\"1\" class=\"dataframe\">\n",
       "  <thead>\n",
       "    <tr style=\"text-align: right;\">\n",
       "      <th></th>\n",
       "      <th>RutEmisor</th>\n",
       "      <th>Folio</th>\n",
       "      <th>N_Item</th>\n",
       "      <th>Glosa</th>\n",
       "      <th>MontoItem</th>\n",
       "    </tr>\n",
       "  </thead>\n",
       "  <tbody>\n",
       "    <tr>\n",
       "      <th>0</th>\n",
       "      <td>77566800-8</td>\n",
       "      <td>440</td>\n",
       "      <td>1</td>\n",
       "      <td>Arriendo local 2 Puerto montt    valor proporc...</td>\n",
       "      <td>5156309</td>\n",
       "    </tr>\n",
       "    <tr>\n",
       "      <th>1</th>\n",
       "      <td>76789922-K</td>\n",
       "      <td>937</td>\n",
       "      <td>1</td>\n",
       "      <td>Usage: Remote Hands 1 Day Ticket: 822574: 12/1...</td>\n",
       "      <td>916160</td>\n",
       "    </tr>\n",
       "  </tbody>\n",
       "</table>\n",
       "</div>"
      ],
      "text/plain": [
       "    RutEmisor Folio N_Item                                              Glosa  \\\n",
       "0  77566800-8   440      1  Arriendo local 2 Puerto montt    valor proporc...   \n",
       "1  76789922-K   937      1  Usage: Remote Hands 1 Day Ticket: 822574: 12/1...   \n",
       "\n",
       "  MontoItem  \n",
       "0   5156309  \n",
       "1    916160  "
      ]
     },
     "execution_count": 40,
     "metadata": {},
     "output_type": "execute_result"
    }
   ],
   "source": [
    "df_con.head()"
   ]
  },
  {
   "cell_type": "markdown",
   "metadata": {},
   "source": [
    "### Juntar los Dataframe"
   ]
  },
  {
   "cell_type": "code",
   "execution_count": 41,
   "metadata": {},
   "outputs": [],
   "source": [
    "df_new = pd.concat([df_con, df_sin], axis=0, ignore_index=False)"
   ]
  },
  {
   "cell_type": "code",
   "execution_count": 43,
   "metadata": {},
   "outputs": [
    {
     "data": {
      "text/html": [
       "<div>\n",
       "<style scoped>\n",
       "    .dataframe tbody tr th:only-of-type {\n",
       "        vertical-align: middle;\n",
       "    }\n",
       "\n",
       "    .dataframe tbody tr th {\n",
       "        vertical-align: top;\n",
       "    }\n",
       "\n",
       "    .dataframe thead th {\n",
       "        text-align: right;\n",
       "    }\n",
       "</style>\n",
       "<table border=\"1\" class=\"dataframe\">\n",
       "  <thead>\n",
       "    <tr style=\"text-align: right;\">\n",
       "      <th></th>\n",
       "      <th>RutEmisor</th>\n",
       "      <th>Folio</th>\n",
       "      <th>N_Item</th>\n",
       "      <th>Glosa</th>\n",
       "      <th>MontoItem</th>\n",
       "    </tr>\n",
       "  </thead>\n",
       "  <tbody>\n",
       "    <tr>\n",
       "      <th>0</th>\n",
       "      <td>77566800-8</td>\n",
       "      <td>440</td>\n",
       "      <td>1</td>\n",
       "      <td>Arriendo local 2 Puerto montt    valor proporc...</td>\n",
       "      <td>5156309</td>\n",
       "    </tr>\n",
       "    <tr>\n",
       "      <th>1</th>\n",
       "      <td>76789922-K</td>\n",
       "      <td>937</td>\n",
       "      <td>1</td>\n",
       "      <td>Usage: Remote Hands 1 Day Ticket: 822574: 12/1...</td>\n",
       "      <td>916160</td>\n",
       "    </tr>\n",
       "    <tr>\n",
       "      <th>0</th>\n",
       "      <td>16383874-5</td>\n",
       "      <td>89</td>\n",
       "      <td>1</td>\n",
       "      <td>Arriendo Álvaro Casanova</td>\n",
       "      <td>898498</td>\n",
       "    </tr>\n",
       "    <tr>\n",
       "      <th>1</th>\n",
       "      <td>96689310-9</td>\n",
       "      <td>50872845</td>\n",
       "      <td>1</td>\n",
       "      <td>COMISION POR VENTAS NACIONALES. EMISOR R.U.T.:...</td>\n",
       "      <td>114</td>\n",
       "    </tr>\n",
       "    <tr>\n",
       "      <th>2</th>\n",
       "      <td>96689310-9</td>\n",
       "      <td>50872845</td>\n",
       "      <td>2</td>\n",
       "      <td>SERVICIO TBK 12/2023</td>\n",
       "      <td>10807</td>\n",
       "    </tr>\n",
       "    <tr>\n",
       "      <th>3</th>\n",
       "      <td>96689310-9</td>\n",
       "      <td>50872845</td>\n",
       "      <td>3</td>\n",
       "      <td>COMISIONES POR VENTAS NACIONALES</td>\n",
       "      <td>2922</td>\n",
       "    </tr>\n",
       "  </tbody>\n",
       "</table>\n",
       "</div>"
      ],
      "text/plain": [
       "    RutEmisor     Folio N_Item  \\\n",
       "0  77566800-8       440      1   \n",
       "1  76789922-K       937      1   \n",
       "0  16383874-5        89      1   \n",
       "1  96689310-9  50872845      1   \n",
       "2  96689310-9  50872845      2   \n",
       "3  96689310-9  50872845      3   \n",
       "\n",
       "                                               Glosa MontoItem  \n",
       "0  Arriendo local 2 Puerto montt    valor proporc...   5156309  \n",
       "1  Usage: Remote Hands 1 Day Ticket: 822574: 12/1...    916160  \n",
       "0                           Arriendo Álvaro Casanova    898498  \n",
       "1  COMISION POR VENTAS NACIONALES. EMISOR R.U.T.:...       114  \n",
       "2                               SERVICIO TBK 12/2023     10807  \n",
       "3                   COMISIONES POR VENTAS NACIONALES      2922  "
      ]
     },
     "execution_count": 43,
     "metadata": {},
     "output_type": "execute_result"
    }
   ],
   "source": [
    "df_new.head(10)"
   ]
  }
 ],
 "metadata": {
  "kernelspec": {
   "display_name": "env",
   "language": "python",
   "name": "python3"
  },
  "language_info": {
   "codemirror_mode": {
    "name": "ipython",
    "version": 3
   },
   "file_extension": ".py",
   "mimetype": "text/x-python",
   "name": "python",
   "nbconvert_exporter": "python",
   "pygments_lexer": "ipython3",
   "version": "3.12.1"
  }
 },
 "nbformat": 4,
 "nbformat_minor": 2
}
