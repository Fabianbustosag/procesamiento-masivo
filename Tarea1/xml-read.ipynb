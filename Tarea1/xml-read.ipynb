{
 "cells": [
  {
   "cell_type": "code",
   "execution_count": 8,
   "metadata": {},
   "outputs": [
    {
     "name": "stdout",
     "output_type": "stream",
     "text": [
      "Folio: 50811457\n",
      "RutEmisor: 96689310-9\n",
      "Detalle 1:\n",
      "  NmbItem: COMISION POR VENTAS INTERNACIONALES                   0\n",
      "  MontoItem: 4275\n",
      "Detalle 2:\n",
      "  NmbItem: COMISION POR VENTAS NACIONALES                        0\n",
      "  MontoItem: 14482993\n"
     ]
    }
   ],
   "source": [
    "import xml.etree.ElementTree as ET\n",
    "\n",
    "# Parsear el archivo XML\n",
    "tree = ET.parse('archivo.xml')\n",
    "root = tree.getroot()\n",
    "\n",
    "# Definir el espacio de nombres\n",
    "namespace = {'ns': 'http://www.sii.cl/SiiDte'}\n",
    "\n",
    "# Función para obtener el valor de un elemento dado un tag\n",
    "def get_element_value(element, tag):\n",
    "    return element.find(f'ns:{tag}', namespace).text if element.find(f'ns:{tag}', namespace) is not None else None\n",
    "\n",
    "# Acceder a los valores del folio\n",
    "# Folio = get_element_value(root.find('.//ns:IdDoc', namespace), 'Folio')\n",
    "Folio = root.find('.//{http://www.sii.cl/SiiDte}Folio').text\n",
    "RutEmisor = root.find('.//{http://www.sii.cl/SiiDte}RutEmisor').text\n",
    "\n",
    "print(\"Folio:\", Folio)\n",
    "print(\"RutEmisor:\", RutEmisor)\n",
    "\n",
    "# Acceder a los detalles y obtener NmbItem y MontoItem\n",
    "detalles = root.findall('.//ns:Detalle', namespace)\n",
    "\n",
    "\n",
    "\n",
    "for detalle in detalles:\n",
    "    nro_lin_det = get_element_value(detalle, 'NroLinDet')\n",
    "    nmb_item = get_element_value(detalle, 'NmbItem')\n",
    "    monto_item = get_element_value(detalle, 'MontoItem')\n",
    "    print(f\"Detalle {nro_lin_det}:\")\n",
    "    print(\"  NmbItem:\", nmb_item)\n",
    "    print(\"  MontoItem:\", monto_item)\n"
   ]
  }
 ],
 "metadata": {
  "kernelspec": {
   "display_name": "env",
   "language": "python",
   "name": "python3"
  },
  "language_info": {
   "codemirror_mode": {
    "name": "ipython",
    "version": 3
   },
   "file_extension": ".py",
   "mimetype": "text/x-python",
   "name": "python",
   "nbconvert_exporter": "python",
   "pygments_lexer": "ipython3",
   "version": "3.12.1"
  }
 },
 "nbformat": 4,
 "nbformat_minor": 2
}
