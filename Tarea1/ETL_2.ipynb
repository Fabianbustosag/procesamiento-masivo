{
 "cells": [
  {
   "cell_type": "code",
   "execution_count": 3,
   "metadata": {},
   "outputs": [],
   "source": [
    "import pandas as pd\n",
    "import xml.etree.ElementTree as ET\n",
    "\n",
    "# Especifica la ruta al archivo Excel\n",
    "archivo_excel = 'extract_glosa.xlsx'\n",
    "\n",
    "# Lee el archivo Excel en un DataFrame de Pandas\n",
    "df = pd.read_excel(archivo_excel)"
   ]
  },
  {
   "cell_type": "markdown",
   "metadata": {},
   "source": [
    "id, rut_emisor, folio, numero de items, glosa, monto."
   ]
  },
  {
   "cell_type": "code",
   "execution_count": 4,
   "metadata": {},
   "outputs": [],
   "source": [
    "# filas = []\n",
    "\n",
    "# i = 0\n",
    "\n",
    "# for xml in df['convert_from'].head(20):\n",
    "\n",
    "#     root = ET.fromstring(xml)\n",
    "\n",
    "#     # Utiliza el namespace de XML\n",
    "#     namespace = {'default': 'http://www.sii.cl/SiiDte'}\n",
    "\n",
    "#     rut_emisor = root.find('.//default:RutEmisor', namespace).text\n",
    "\n",
    "#     razon_social = root.find('.//{http://www.sii.cl/SiiDte}RznSoc').text\n",
    "\n",
    "#     NmbItem = root.find('.//{http://www.sii.cl/SiiDte}NmbItem').text\n",
    "\n",
    "#     NmbItem = root.find('.//{http://www.sii.cl/SiiDte}NmbItem').text\n",
    "\n",
    "#     # a veces DscItem no existe\n",
    "#     DscItem = root.find('.//{http://www.sii.cl/SiiDte}DscItem')\n",
    "\n",
    "#     if DscItem is not None: # Crea nuevas filas para el df con DscItem\n",
    "#         nuevaFila = {\n",
    "#             \"rut_emisor\": rut_emisor,\n",
    "#             \"razon_social\": razon_social,\n",
    "#             \"NmbItem\": NmbItem,\n",
    "#             \"DscItem\": root.find('.//{http://www.sii.cl/SiiDte}DscItem').text\n",
    "#         }\n",
    "#         filas.append(nuevaFila)\n",
    "#     else: # Crea nuevas filas para el df sin DscItem\n",
    "#         nuevaFila = {\n",
    "#             \"rut_emisor\": rut_emisor,\n",
    "#             \"razon_social\": razon_social,\n",
    "#             \"NmbItem\": NmbItem,\n",
    "#             \"DscItem\": None\n",
    "#         }\n",
    "#         filas.append(nuevaFila)"
   ]
  },
  {
   "cell_type": "markdown",
   "metadata": {},
   "source": [
    "Pasos acceder a los valores del detalle\n",
    "\n",
    "- tener en cuenta que hay mas de un detalle"
   ]
  },
  {
   "cell_type": "code",
   "execution_count": 28,
   "metadata": {},
   "outputs": [
    {
     "name": "stdout",
     "output_type": "stream",
     "text": [
      "------------\n",
      "------------\n",
      "------------\n",
      "Folio: 50872845\n",
      "RutEmisor: 96689310-9\n",
      "Detalle 1:\n",
      "  NmbItem: COMISION POR VENTAS NACIONALES. EMISOR R.U.T.: 97951000-4\n",
      "  MontoItem: 114\n",
      "Detalle 2:\n",
      "  NmbItem: SERVICIO TBK 12/2023\n",
      "  MontoItem: 10807\n",
      "Detalle 3:\n",
      "  NmbItem: COMISIONES POR VENTAS NACIONALES\n",
      "  MontoItem: 2922\n",
      "------------\n"
     ]
    }
   ],
   "source": [
    "ns = {'ns': 'http://www.sii.cl/SiiDte'}\n",
    "\n",
    "filas = []\n",
    "\n",
    "\n",
    "def get_element_value(element, tag):\n",
    "    return element.find(f'ns:{tag}', ns).text if element.find(f'ns:{tag}', ns) is not None else None\n",
    "i=0\n",
    "for xml in df['convert_from'].head(4):\n",
    "    root = ET.fromstring(xml)\n",
    "    if(i>2):\n",
    "        # Utiliza el namespace de XML\n",
    "        namespace = {'default': 'http://www.sii.cl/SiiDte'}\n",
    "\n",
    "        Folio = root.find('.//{http://www.sii.cl/SiiDte}Folio').text\n",
    "        RutEmisor = root.find('.//{http://www.sii.cl/SiiDte}RutEmisor').text\n",
    "        print(\"Folio:\", Folio)\n",
    "        print(\"RutEmisor:\", RutEmisor)\n",
    "\n",
    "\n",
    "        detalles = root.findall('.//ns:Detalle', ns)\n",
    "        for detalle in detalles:\n",
    "            NroLinDet = get_element_value(detalle, 'NroLinDet')\n",
    "            NmbItem = get_element_value(detalle, 'NmbItem')\n",
    "            MontoItem = get_element_value(detalle, 'MontoItem')\n",
    "            print(f\"Detalle {NroLinDet}:\")\n",
    "            print(\"  NmbItem:\", NmbItem)\n",
    "            print(\"  MontoItem:\", MontoItem)\n",
    "            nuevaFila = {\n",
    "                \"RutEmisor\": RutEmisor,\n",
    "                \"Folio\": Folio,\n",
    "                \"NmbItem\": NmbItem,\n",
    "                \"MontoItem\": MontoItem,\n",
    "            }\n",
    "            filas.append(nuevaFila)\n",
    "    i=i+1\n",
    "\n",
    "    print('------------')\n",
    "\n",
    "df_new = pd.DataFrame(filas)"
   ]
  },
  {
   "cell_type": "code",
   "execution_count": 29,
   "metadata": {},
   "outputs": [
    {
     "data": {
      "text/html": [
       "<div>\n",
       "<style scoped>\n",
       "    .dataframe tbody tr th:only-of-type {\n",
       "        vertical-align: middle;\n",
       "    }\n",
       "\n",
       "    .dataframe tbody tr th {\n",
       "        vertical-align: top;\n",
       "    }\n",
       "\n",
       "    .dataframe thead th {\n",
       "        text-align: right;\n",
       "    }\n",
       "</style>\n",
       "<table border=\"1\" class=\"dataframe\">\n",
       "  <thead>\n",
       "    <tr style=\"text-align: right;\">\n",
       "      <th></th>\n",
       "      <th>RutEmisor</th>\n",
       "      <th>Folio</th>\n",
       "      <th>NmbItem</th>\n",
       "      <th>MontoItem</th>\n",
       "    </tr>\n",
       "  </thead>\n",
       "  <tbody>\n",
       "    <tr>\n",
       "      <th>0</th>\n",
       "      <td>96689310-9</td>\n",
       "      <td>50872845</td>\n",
       "      <td>COMISION POR VENTAS NACIONALES. EMISOR R.U.T.:...</td>\n",
       "      <td>114</td>\n",
       "    </tr>\n",
       "    <tr>\n",
       "      <th>1</th>\n",
       "      <td>96689310-9</td>\n",
       "      <td>50872845</td>\n",
       "      <td>SERVICIO TBK 12/2023</td>\n",
       "      <td>10807</td>\n",
       "    </tr>\n",
       "    <tr>\n",
       "      <th>2</th>\n",
       "      <td>96689310-9</td>\n",
       "      <td>50872845</td>\n",
       "      <td>COMISIONES POR VENTAS NACIONALES</td>\n",
       "      <td>2922</td>\n",
       "    </tr>\n",
       "  </tbody>\n",
       "</table>\n",
       "</div>"
      ],
      "text/plain": [
       "    RutEmisor     Folio                                            NmbItem  \\\n",
       "0  96689310-9  50872845  COMISION POR VENTAS NACIONALES. EMISOR R.U.T.:...   \n",
       "1  96689310-9  50872845                               SERVICIO TBK 12/2023   \n",
       "2  96689310-9  50872845                   COMISIONES POR VENTAS NACIONALES   \n",
       "\n",
       "  MontoItem  \n",
       "0       114  \n",
       "1     10807  \n",
       "2      2922  "
      ]
     },
     "execution_count": 29,
     "metadata": {},
     "output_type": "execute_result"
    }
   ],
   "source": [
    "df_new.head()"
   ]
  }
 ],
 "metadata": {
  "kernelspec": {
   "display_name": "env",
   "language": "python",
   "name": "python3"
  },
  "language_info": {
   "codemirror_mode": {
    "name": "ipython",
    "version": 3
   },
   "file_extension": ".py",
   "mimetype": "text/x-python",
   "name": "python",
   "nbconvert_exporter": "python",
   "pygments_lexer": "ipython3",
   "version": "3.12.1"
  }
 },
 "nbformat": 4,
 "nbformat_minor": 2
}
