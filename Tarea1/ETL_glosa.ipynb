{
  "cells": [
    {
      "cell_type": "code",
      "execution_count": 49,
      "metadata": {
        "colab": {
          "base_uri": "https://localhost:8080/"
        },
        "id": "kktvD6IcNza1",
        "outputId": "3a811ace-0764-4169-dc83-ec4ae67c77ad"
      },
      "outputs": [
        {
          "name": "stdout",
          "output_type": "stream",
          "text": [
            "<class 'pandas.core.frame.DataFrame'>\n",
            "RangeIndex: 934 entries, 0 to 933\n",
            "Data columns (total 6 columns):\n",
            " #   Column        Non-Null Count  Dtype         \n",
            "---  ------        --------------  -----         \n",
            " 0   id            934 non-null    int64         \n",
            " 1   rutemisor     934 non-null    object        \n",
            " 2   folio         934 non-null    int64         \n",
            " 3   date          934 non-null    datetime64[ns]\n",
            " 4   xml_dte       934 non-null    object        \n",
            " 5   convert_from  934 non-null    object        \n",
            "dtypes: datetime64[ns](1), int64(2), object(3)\n",
            "memory usage: 43.9+ KB\n"
          ]
        }
      ],
      "source": [
        "import pandas as pd\n",
        "import xml.etree.ElementTree as ET\n",
        "\n",
        "# Especifica la ruta al archivo Excel\n",
        "archivo_excel = 'extract_glosa.xlsx'\n",
        "\n",
        "# Lee el archivo Excel en un DataFrame de Pandas\n",
        "df = pd.read_excel(archivo_excel)\n",
        "\n",
        "df.info()"
      ]
    },
    {
      "cell_type": "code",
      "execution_count": 40,
      "metadata": {},
      "outputs": [
        {
          "name": "stdout",
          "output_type": "stream",
          "text": [
            "filas totales: 20\n"
          ]
        }
      ],
      "source": [
        "# SinDscItem = pd.DataFrame()\n",
        "# df_con = pd.DataFrame()\n",
        "filas_sin = []\n",
        "filas_con = []\n",
        "\n",
        "i = 0\n",
        "\n",
        "for xml in df['convert_from'].head(20):\n",
        "\n",
        "    root = ET.fromstring(xml)\n",
        "\n",
        "    # Utiliza el namespace de XML\n",
        "    namespace = {'default': 'http://www.sii.cl/SiiDte'}\n",
        "\n",
        "    rut_emisor = root.find('.//default:RutEmisor', namespace).text\n",
        "\n",
        "    razon_social = root.find('.//{http://www.sii.cl/SiiDte}RznSoc').text\n",
        "\n",
        "    NmbItem = root.find('.//{http://www.sii.cl/SiiDte}NmbItem').text\n",
        "\n",
        "    # a veces DscItem no existe\n",
        "    DscItem = root.find('.//{http://www.sii.cl/SiiDte}DscItem')\n",
        "\n",
        "    if DscItem is not None: # Crea nuevas filas para el df con DscItem\n",
        "        nuevaFila = {\n",
        "            \"rut_emisor\": rut_emisor,\n",
        "            \"razon_social\": razon_social,\n",
        "            \"NmbItem\": NmbItem,\n",
        "            \"DscItem\": root.find('.//{http://www.sii.cl/SiiDte}DscItem').text\n",
        "        }\n",
        "        filas_con.append(nuevaFila)\n",
        "    else: # Crea nuevas filas para el df sin DscItem\n",
        "        nuevaFila = {\n",
        "            \"rut_emisor\": rut_emisor,\n",
        "            \"razon_social\": razon_social,\n",
        "            \"NmbItem\": NmbItem,\n",
        "        }\n",
        "        filas_sin.append(nuevaFila)\n",
        "\n",
        "# agregar las nuevas filas a los distintos df\n",
        "df_con = pd.DataFrame(filas_con)\n",
        "df_sin = pd.DataFrame(filas_sin)\n",
        "\n",
        "print(f'filas totales: {df_con.shape[0]+df_sin.shape[0]}')"
      ]
    },
    {
      "cell_type": "code",
      "execution_count": 57,
      "metadata": {},
      "outputs": [],
      "source": [
        "# SinDscItem = pd.DataFrame()\n",
        "# df_con = pd.DataFrame()\n",
        "filas = []\n",
        "\n",
        "\n",
        "i = 0\n",
        "\n",
        "for xml in df['convert_from'].head(20):\n",
        "\n",
        "    root = ET.fromstring(xml)\n",
        "\n",
        "    # Utiliza el namespace de XML\n",
        "    namespace = {'default': 'http://www.sii.cl/SiiDte'}\n",
        "\n",
        "    rut_emisor = root.find('.//default:RutEmisor', namespace).text\n",
        "\n",
        "    razon_social = root.find('.//{http://www.sii.cl/SiiDte}RznSoc').text\n",
        "\n",
        "    NmbItem = root.find('.//{http://www.sii.cl/SiiDte}NmbItem').text\n",
        "\n",
        "    # a veces DscItem no existe\n",
        "    DscItem = root.find('.//{http://www.sii.cl/SiiDte}DscItem')\n",
        "\n",
        "    if DscItem is not None: # Crea nuevas filas para el df con DscItem\n",
        "        nuevaFila = {\n",
        "            \"rut_emisor\": rut_emisor,\n",
        "            \"razon_social\": razon_social,\n",
        "            # \"NmbItem\": NmbItem,\n",
        "            # \"DscItem\": root.find('.//{http://www.sii.cl/SiiDte}DscItem').text,\n",
        "            \"Glosa\": f'{NmbItem} {DscItem.text}'\n",
        "        }\n",
        "        filas.append(nuevaFila)\n",
        "    else: # Crea nuevas filas para el df sin DscItem\n",
        "        nuevaFila = {\n",
        "            \"rut_emisor\": rut_emisor,\n",
        "            \"razon_social\": razon_social,\n",
        "            # \"NmbItem\": NmbItem,\n",
        "            \"Glosa\": NmbItem,\n",
        "        }\n",
        "        filas.append(nuevaFila)\n",
        "\n",
        "# agregar las nuevas filas a los distintos df\n",
        "df_final = pd.DataFrame(filas)\n",
        "\n"
      ]
    },
    {
      "cell_type": "code",
      "execution_count": 60,
      "metadata": {},
      "outputs": [],
      "source": [
        "# Convierte el DataFrame a CSV\n",
        "csv_data = df_final.to_csv('csv_data',index=False)"
      ]
    }
  ],
  "metadata": {
    "colab": {
      "provenance": []
    },
    "kernelspec": {
      "display_name": "Python 3",
      "name": "python3"
    },
    "language_info": {
      "codemirror_mode": {
        "name": "ipython",
        "version": 3
      },
      "file_extension": ".py",
      "mimetype": "text/x-python",
      "name": "python",
      "nbconvert_exporter": "python",
      "pygments_lexer": "ipython3",
      "version": "3.12.1"
    }
  },
  "nbformat": 4,
  "nbformat_minor": 0
}
