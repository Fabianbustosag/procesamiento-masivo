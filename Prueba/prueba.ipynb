{
 "cells": [
  {
   "cell_type": "code",
   "execution_count": 1,
   "metadata": {},
   "outputs": [],
   "source": [
    "#!/usr/bin/env python3\n",
    "# -*- coding: utf-8 -*-\n",
    "\"\"\"\n",
    "Created on Thu Apr 25 17:33:24 2024\n",
    "\n",
    "@author: jorge.ortiz\n",
    "\"\"\"\n",
    "import os, sys\n",
    "\n",
    "#%% RUTAS\n",
    "\n",
    "path_files = os.getcwd()\n",
    "# path_sql = os.path.join(os.path.normpath(os.getcwd() + os.sep + os.pardir), \"funciones_sql\") \n",
    "path_sql = os.path.join(os.path.normpath(os.getcwd() + os.sep + os.pardir), \"Tarea2\") \n",
    "\n",
    "\n",
    "#%% IMPORT DE FUNCIONES\n",
    "\n",
    "sys.path.insert(0, path_sql)\n",
    "from query_sql import query_POSTGRESQL, DataFrame2DataBase\n",
    "\n",
    "#%% EXTRACCION DE DATOS\n",
    "\n",
    "query_sql = '''SELECT * FROM dtes'''\n",
    "df = query_POSTGRESQL(path_sql, 'USM', query_sql)\n",
    "\n",
    "#%% TRANSFORMACION DE DATOS\n",
    "\n",
    "\n",
    "# ACA VA SU CODIGO\n",
    "\n",
    "# generar un dataframe que contenga el id, rut_emisor_folio, glosa, monto\n",
    "\n",
    "# id, rut_emisor, folio, monto, glosa1\n",
    "# id, rut_emisor, folio, monto, glosa2\n",
    "\n",
    "\n",
    "\n",
    "#%% CARGA DE DATOS\n",
    "\n",
    "# table_name = 'bustos_fonseca_'\n",
    "# DataFrame2DataBase(path_sql, 'USM', data, table_name, 'public')"
   ]
  },
  {
   "cell_type": "code",
   "execution_count": 2,
   "metadata": {},
   "outputs": [
    {
     "data": {
      "text/html": [
       "<div>\n",
       "<style scoped>\n",
       "    .dataframe tbody tr th:only-of-type {\n",
       "        vertical-align: middle;\n",
       "    }\n",
       "\n",
       "    .dataframe tbody tr th {\n",
       "        vertical-align: top;\n",
       "    }\n",
       "\n",
       "    .dataframe thead th {\n",
       "        text-align: right;\n",
       "    }\n",
       "</style>\n",
       "<table border=\"1\" class=\"dataframe\">\n",
       "  <thead>\n",
       "    <tr style=\"text-align: right;\">\n",
       "      <th></th>\n",
       "      <th>id</th>\n",
       "      <th>rutemisor</th>\n",
       "      <th>folio</th>\n",
       "      <th>date</th>\n",
       "      <th>xml_dte</th>\n",
       "      <th>convert_from</th>\n",
       "    </tr>\n",
       "  </thead>\n",
       "  <tbody>\n",
       "    <tr>\n",
       "      <th>0</th>\n",
       "      <td>99760</td>\n",
       "      <td>775668008</td>\n",
       "      <td>440</td>\n",
       "      <td>2024-01-05</td>\n",
       "      <td>PD94bWwgdmVyc2lvbj0iMS4wIiBlbmNvZGluZz0iSVNPLT...</td>\n",
       "      <td>&lt;?xml version=\"1.0\" encoding=\"ISO-8859-1\"?&gt;\\n&lt;...</td>\n",
       "    </tr>\n",
       "  </tbody>\n",
       "</table>\n",
       "</div>"
      ],
      "text/plain": [
       "      id  rutemisor  folio        date  \\\n",
       "0  99760  775668008    440  2024-01-05   \n",
       "\n",
       "                                             xml_dte  \\\n",
       "0  PD94bWwgdmVyc2lvbj0iMS4wIiBlbmNvZGluZz0iSVNPLT...   \n",
       "\n",
       "                                        convert_from  \n",
       "0  <?xml version=\"1.0\" encoding=\"ISO-8859-1\"?>\\n<...  "
      ]
     },
     "execution_count": 2,
     "metadata": {},
     "output_type": "execute_result"
    }
   ],
   "source": [
    "df.head(1)"
   ]
  }
 ],
 "metadata": {
  "kernelspec": {
   "display_name": "env",
   "language": "python",
   "name": "python3"
  },
  "language_info": {
   "codemirror_mode": {
    "name": "ipython",
    "version": 3
   },
   "file_extension": ".py",
   "mimetype": "text/x-python",
   "name": "python",
   "nbconvert_exporter": "python",
   "pygments_lexer": "ipython3",
   "version": "3.12.1"
  }
 },
 "nbformat": 4,
 "nbformat_minor": 2
}
