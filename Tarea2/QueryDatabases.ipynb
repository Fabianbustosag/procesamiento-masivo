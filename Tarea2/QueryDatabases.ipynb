{
 "cells": [
  {
   "cell_type": "markdown",
   "metadata": {},
   "source": [
    "# Extraccion de datos"
   ]
  },
  {
   "cell_type": "code",
   "execution_count": 5,
   "metadata": {},
   "outputs": [],
   "source": [
    "import psycopg2\n",
    "import pandas as pd\n",
    "from query_sql import query_POSTGRESQL \n",
    "import os, sys\n",
    "\n",
    "#%% RUTAS\n",
    "\n",
    "path_files = os.getcwd()\n",
    "# path_sql = os.path.join(os.path.normpath(os.getcwd() + os.sep + os.pardir), \"funciones_sql\") \n",
    "path_sql = os.path.join(os.path.normpath(os.getcwd() + os.sep + os.pardir), \"Tarea2\") \n",
    "\n",
    "\n",
    "#%% IMPORT DE FUNCIONES\n",
    "\n",
    "sys.path.insert(0, path_sql)\n",
    "from query_sql import query_POSTGRESQL, DataFrame2DataBase\n",
    "\n",
    "#%% EXTRACCION DE DATOS\n",
    "\n",
    "query_sql = '''SELECT * FROM dtes'''\n",
    "data = query_POSTGRESQL(path_sql, 'USM', query_sql)"
   ]
  },
  {
   "cell_type": "code",
   "execution_count": 6,
   "metadata": {},
   "outputs": [
    {
     "name": "stdout",
     "output_type": "stream",
     "text": [
      "<class 'pandas.core.frame.DataFrame'>\n",
      "RangeIndex: 535 entries, 0 to 534\n",
      "Data columns (total 6 columns):\n",
      " #   Column        Non-Null Count  Dtype \n",
      "---  ------        --------------  ----- \n",
      " 0   id            535 non-null    int64 \n",
      " 1   rutemisor     535 non-null    object\n",
      " 2   folio         535 non-null    int64 \n",
      " 3   date          535 non-null    object\n",
      " 4   xml_dte       535 non-null    object\n",
      " 5   convert_from  535 non-null    object\n",
      "dtypes: int64(2), object(4)\n",
      "memory usage: 25.2+ KB\n"
     ]
    }
   ],
   "source": [
    "data.info()"
   ]
  },
  {
   "cell_type": "markdown",
   "metadata": {},
   "source": [
    "# Transformacion de datos"
   ]
  },
  {
   "cell_type": "code",
   "execution_count": null,
   "metadata": {},
   "outputs": [],
   "source": []
  },
  {
   "cell_type": "code",
   "execution_count": 9,
   "metadata": {},
   "outputs": [],
   "source": [
    "import xml.etree.ElementTree as ET\n",
    "\n",
    "df_new = pd.DataFrame()\n",
    "rows = []\n",
    "\n",
    "for xml in data['convert_from'].head(20):\n",
    "    # print(xml)\n",
    "\n",
    "    root = ET.fromstring(xml)\n",
    "\n",
    "    # Utiliza el namespace de XML\n",
    "    namespace = {'default': 'http://www.sii.cl/SiiDte'}\n",
    "\n",
    "    rut_emisor = root.find('.//default:RutEmisor', namespace).text\n",
    "\n",
    "    razon_social = root.find('.//{http://www.sii.cl/SiiDte}RznSoc').text\n",
    "\n",
    "    NmbItem = root.find('.//{http://www.sii.cl/SiiDte}NmbItem').text\n",
    "\n",
    "    # a veces DscItem no existe\n",
    "    DscItem = root.find('.//{http://www.sii.cl/SiiDte}DscItem')\n",
    "\n",
    "    if DscItem is not None: \n",
    "        nuevas_filas = {\n",
    "            \"rut_emisor\": rut_emisor,\n",
    "            \"razon_social\": razon_social,\n",
    "            \"NmbItem\": NmbItem,\n",
    "            \"DscItem\": root.find('.//{http://www.sii.cl/SiiDte}DscItem').text\n",
    "    }    \n",
    "    else: # SI DscItem NO TIENE NADA \n",
    "        nuevas_filas = {\n",
    "            \"rut_emisor\": rut_emisor,\n",
    "            \"razon_social\": razon_social,\n",
    "            \"NmbItem\": NmbItem,\n",
    "            \"DscItem\": 'NO HAY',\n",
    "        }\n",
    "\n",
    "    rows.append(nuevas_filas)\n"
   ]
  },
  {
   "cell_type": "code",
   "execution_count": 28,
   "metadata": {},
   "outputs": [],
   "source": [
    "# extraer la glosa\n",
    "\n",
    "import xml.etree.ElementTree as ET\n",
    "\n",
    "df_new = pd.DataFrame()\n",
    "rows = []\n",
    "\n",
    "for xml in data['convert_from']:\n",
    "    # print(xml)\n",
    "\n",
    "    root = ET.fromstring(xml)\n",
    "\n",
    "    # # Accede a la información de una etiqueta específica\n",
    "    # etiqueta_deseada = root.find('.//etiqueta')\n",
    "\n",
    "    # Utiliza el namespace de XML\n",
    "    namespace = {'default': 'http://www.sii.cl/SiiDte'}\n",
    "\n",
    "    # Encuentra y extrae el valor de la etiqueta RutEmisor\n",
    "    rut_emisor = root.find('.//default:RutEmisor', namespace).text\n",
    "\n",
    "    razon_social = root.find('.//{http://www.sii.cl/SiiDte}RznSoc').text\n",
    "\n",
    "    # detalle = root.find('.//{http://www.sii.cl/SiiDte}Detalle').text\n",
    "    NmbItem = root.find('.//{http://www.sii.cl/SiiDte}NmbItem').text\n",
    "\n",
    "    # a veces DscItem no existe\n",
    "    DscItem = root.find('.//{http://www.sii.cl/SiiDte}DscItem')\n",
    "\n",
    "    if DscItem is not None:\n",
    "        # print('esta la etiqueta')\n",
    "        nuevas_filas = {\n",
    "        \"rut_emisor\": rut_emisor,\n",
    "        \"razon_social\": razon_social,\n",
    "        \"NmbItem\": NmbItem,\n",
    "        \"DscItem\": root.find('.//{http://www.sii.cl/SiiDte}DscItem').text\n",
    "        \n",
    "    }\n",
    "    else:\n",
    "    # La etiqueta no fue encontrada, manejar la situación en consecuencia\n",
    "        # print(\"La etiqueta DscItem no fue encontrada.\")\n",
    "        nuevas_filas = {\n",
    "            \"rut_emisor\": rut_emisor,\n",
    "            \"razon_social\": razon_social,\n",
    "            \"NmbItem\": NmbItem,\n",
    "            \"DscItem\": 'NO HAY',\n",
    "        }\n",
    "\n",
    "    rows.append(nuevas_filas)\n",
    "\n",
    "df_new = pd.DataFrame(rows)"
   ]
  },
  {
   "cell_type": "code",
   "execution_count": 3,
   "metadata": {},
   "outputs": [
    {
     "ename": "NameError",
     "evalue": "name 'df_new' is not defined",
     "output_type": "error",
     "traceback": [
      "\u001b[1;31m---------------------------------------------------------------------------\u001b[0m",
      "\u001b[1;31mNameError\u001b[0m                                 Traceback (most recent call last)",
      "Cell \u001b[1;32mIn[3], line 1\u001b[0m\n\u001b[1;32m----> 1\u001b[0m \u001b[43mdf_new\u001b[49m\u001b[38;5;241m.\u001b[39minfo()\n",
      "\u001b[1;31mNameError\u001b[0m: name 'df_new' is not defined"
     ]
    }
   ],
   "source": [
    "df_new.info()"
   ]
  },
  {
   "cell_type": "code",
   "execution_count": 2,
   "metadata": {},
   "outputs": [
    {
     "ename": "NameError",
     "evalue": "name 'df_new' is not defined",
     "output_type": "error",
     "traceback": [
      "\u001b[1;31m---------------------------------------------------------------------------\u001b[0m",
      "\u001b[1;31mNameError\u001b[0m                                 Traceback (most recent call last)",
      "Cell \u001b[1;32mIn[2], line 1\u001b[0m\n\u001b[1;32m----> 1\u001b[0m \u001b[43mdf_new\u001b[49m[\u001b[38;5;124m'\u001b[39m\u001b[38;5;124mDscItem\u001b[39m\u001b[38;5;124m'\u001b[39m]\u001b[38;5;241m.\u001b[39mvalue_counts()\n",
      "\u001b[1;31mNameError\u001b[0m: name 'df_new' is not defined"
     ]
    }
   ],
   "source": [
    "df_new['DscItem'].value_counts()"
   ]
  },
  {
   "cell_type": "code",
   "execution_count": 19,
   "metadata": {},
   "outputs": [],
   "source": [
    "def concat_if_not_no_hay(df):\n",
    "    # Filtrar filas donde DscItem no sea 'NO HAY'\n",
    "    filtered_df = df[df['DscItem'] != 'NO HAY'].copy()  # Añadir .copy() para evitar la advertencia\n",
    "    \n",
    "    # Concatenar NmbItem y DscItem\n",
    "    filtered_df.loc[:, 'Concatenated'] = filtered_df['NmbItem'] + ' ' + filtered_df['DscItem']  # Usar .loc[]\n",
    "    \n",
    "    return filtered_df"
   ]
  },
  {
   "cell_type": "code",
   "execution_count": 31,
   "metadata": {},
   "outputs": [
    {
     "name": "stdout",
     "output_type": "stream",
     "text": [
      "<class 'pandas.core.frame.DataFrame'>\n",
      "Index: 382 entries, 0 to 534\n",
      "Data columns (total 5 columns):\n",
      " #   Column        Non-Null Count  Dtype \n",
      "---  ------        --------------  ----- \n",
      " 0   rut_emisor    382 non-null    object\n",
      " 1   razon_social  382 non-null    object\n",
      " 2   NmbItem       382 non-null    object\n",
      " 3   DscItem       380 non-null    object\n",
      " 4   Concatenated  380 non-null    object\n",
      "dtypes: object(5)\n",
      "memory usage: 17.9+ KB\n"
     ]
    }
   ],
   "source": [
    "concat_if_not_no_hay(df_new).info()"
   ]
  }
 ],
 "metadata": {
  "kernelspec": {
   "display_name": "env",
   "language": "python",
   "name": "python3"
  },
  "language_info": {
   "codemirror_mode": {
    "name": "ipython",
    "version": 3
   },
   "file_extension": ".py",
   "mimetype": "text/x-python",
   "name": "python",
   "nbconvert_exporter": "python",
   "pygments_lexer": "ipython3",
   "version": "3.12.1"
  }
 },
 "nbformat": 4,
 "nbformat_minor": 2
}
