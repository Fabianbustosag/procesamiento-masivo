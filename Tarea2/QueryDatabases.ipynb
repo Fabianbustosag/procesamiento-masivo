{
 "cells": [
  {
   "cell_type": "markdown",
   "metadata": {},
   "source": [
    "# Extraccion de datos"
   ]
  },
  {
   "cell_type": "code",
   "execution_count": 5,
   "metadata": {},
   "outputs": [],
   "source": [
    "import psycopg2\n",
    "import pandas as pd\n",
    "from query_sql import query_POSTGRESQL \n",
    "import os, sys\n",
    "\n",
    "#%% RUTAS\n",
    "\n",
    "path_files = os.getcwd()\n",
    "# path_sql = os.path.join(os.path.normpath(os.getcwd() + os.sep + os.pardir), \"funciones_sql\") \n",
    "path_sql = os.path.join(os.path.normpath(os.getcwd() + os.sep + os.pardir), \"Tarea2\") \n",
    "\n",
    "\n",
    "#%% IMPORT DE FUNCIONES\n",
    "\n",
    "sys.path.insert(0, path_sql)\n",
    "from query_sql import query_POSTGRESQL, DataFrame2DataBase\n",
    "\n",
    "#%% EXTRACCION DE DATOS\n",
    "\n",
    "query_sql = '''SELECT * FROM dtes'''\n",
    "data = query_POSTGRESQL(path_sql, 'USM', query_sql)"
   ]
  },
  {
   "cell_type": "code",
   "execution_count": 6,
   "metadata": {},
   "outputs": [
    {
     "name": "stdout",
     "output_type": "stream",
     "text": [
      "<class 'pandas.core.frame.DataFrame'>\n",
      "RangeIndex: 535 entries, 0 to 534\n",
      "Data columns (total 6 columns):\n",
      " #   Column        Non-Null Count  Dtype \n",
      "---  ------        --------------  ----- \n",
      " 0   id            535 non-null    int64 \n",
      " 1   rutemisor     535 non-null    object\n",
      " 2   folio         535 non-null    int64 \n",
      " 3   date          535 non-null    object\n",
      " 4   xml_dte       535 non-null    object\n",
      " 5   convert_from  535 non-null    object\n",
      "dtypes: int64(2), object(4)\n",
      "memory usage: 25.2+ KB\n"
     ]
    }
   ],
   "source": [
    "data.info()"
   ]
  },
  {
   "cell_type": "markdown",
   "metadata": {},
   "source": [
    "# Transformacion de datos"
   ]
  },
  {
   "cell_type": "code",
   "execution_count": null,
   "metadata": {},
   "outputs": [],
   "source": [
    "filas = []\n",
    "\n",
    "for xml in data['convert_from']:\n",
    "\n",
    "    root = ET.fromstring(xml)\n",
    "\n",
    "    # Utiliza el namespace de XML\n",
    "    namespace = {'default': 'http://www.sii.cl/SiiDte'}\n",
    "\n",
    "    rut_emisor = root.find('.//default:RutEmisor', namespace).text\n",
    "\n",
    "    razon_social = root.find('.//{http://www.sii.cl/SiiDte}RznSoc').text\n",
    "\n",
    "    NmbItem = root.find('.//{http://www.sii.cl/SiiDte}NmbItem').text\n",
    "\n",
    "    # a veces DscItem no existe\n",
    "    DscItem = root.find('.//{http://www.sii.cl/SiiDte}DscItem')\n",
    "\n",
    "    if DscItem is not None: # Crea nuevas filas para el df con DscItem\n",
    "        nuevaFila = {\n",
    "            \"rut_emisor\": rut_emisor,\n",
    "            \"razon_social\": razon_social,\n",
    "            # \"NmbItem\": NmbItem,\n",
    "            # \"DscItem\": root.find('.//{http://www.sii.cl/SiiDte}DscItem').text,\n",
    "            \"Glosa\": f'{NmbItem} {DscItem.text}'\n",
    "        }\n",
    "        filas.append(nuevaFila)\n",
    "    else: # Crea nuevas filas para el df sin DscItem\n",
    "        nuevaFila = {\n",
    "            \"rut_emisor\": rut_emisor,\n",
    "            \"razon_social\": razon_social,\n",
    "            # \"NmbItem\": NmbItem,\n",
    "            \"Glosa\": NmbItem,\n",
    "        }\n",
    "        filas.append(nuevaFila)\n",
    "\n",
    "# agregar las nuevas filas a los distintos df\n",
    "df_final = pd.DataFrame(filas)"
   ]
  }
 ],
 "metadata": {
  "kernelspec": {
   "display_name": "env",
   "language": "python",
   "name": "python3"
  },
  "language_info": {
   "codemirror_mode": {
    "name": "ipython",
    "version": 3
   },
   "file_extension": ".py",
   "mimetype": "text/x-python",
   "name": "python",
   "nbconvert_exporter": "python",
   "pygments_lexer": "ipython3",
   "version": "3.12.1"
  }
 },
 "nbformat": 4,
 "nbformat_minor": 2
}
